{
 "cells": [
  {
   "cell_type": "markdown",
   "id": "a21f66d6",
   "metadata": {},
   "source": [
    "# 🔧 Prerequisite Setup for the Hackathon\n",
    "\n",
    "This notebook will guide you to install all the required system and Python dependencies to ensure your environment is fully ready to run the code.\n",
    "\n",
    "It is intended to be run in a **Jupyter environment with root access**.\n",
    "\n",
    "---\n",
    "\n",
    "## ✅ Step 1: Install Required Python Packages\n",
    "\n",
    "We need several libraries for web automation, image processing, data analysis, and OCR (Optical Character Recognition)."
   ]
  },
  {
   "cell_type": "code",
   "execution_count": null,
   "id": "3bd4953d-89d0-4597-87d9-aed695beb8b0",
   "metadata": {},
   "outputs": [],
   "source": [
    "# Install all dependencies\n",
    "!pip install playwright IPython pillow requests\n",
    "!pip install numpy==1.24.4 numba==0.57.1 opencv-python==4.7.0.72 ipython==8.18 ipympl pytesseract pandas pyarrow\n"
   ]
  },
  {
   "cell_type": "markdown",
   "id": "771dd9a9",
   "metadata": {},
   "source": [
    "## ✅ Step 2: Update the System (For Linux-based Systems)\n",
    "\n",
    "Updating the system ensures that all packages are up-to-date and dependencies install cleanly.\n",
    "\n",
    "⚠️ This step requires root access and will work in Linux environments only."
   ]
  },
  {
   "cell_type": "code",
   "execution_count": null,
   "id": "20f5c910",
   "metadata": {},
   "outputs": [],
   "source": [
    "!sudo apt update && sudo apt upgrade -y\n"
   ]
  },
  {
   "cell_type": "markdown",
   "id": "a2f5359a",
   "metadata": {},
   "source": [
    "## ✅ Step 3: Install Tesseract OCR Engine\n",
    "\n",
    "Tesseract is required for extracting text from images using pytesseract."
   ]
  },
  {
   "cell_type": "code",
   "execution_count": null,
   "id": "74d0df80",
   "metadata": {},
   "outputs": [],
   "source": [
    "!sudo apt install -y tesseract-ocr\n"
   ]
  },
  {
   "cell_type": "markdown",
   "id": "06c962af",
   "metadata": {},
   "source": [
    "## ✅ Step 4: Install Playwright and Its System Dependencies\n",
    "\n",
    "Playwright is used for browser automation and scraping."
   ]
  },
  {
   "cell_type": "code",
   "execution_count": null,
   "id": "f66950b8",
   "metadata": {},
   "outputs": [],
   "source": [
    "!playwright install-deps\n",
    "!playwright install\n"
   ]
  },
  {
   "cell_type": "markdown",
   "id": "ae7d583b",
   "metadata": {},
   "source": [
    "## ✅ Done!\n",
    "\n",
    "You are now ready to run the main notebook.\n",
    "\n",
    "Make sure all installations finish without errors.\n",
    "\n",
    "Restart the runtime, if you encounter any module not found errors after installation."
   ]
  }
 ],
 "metadata": {
  "kernelspec": {
   "display_name": "Python 3",
   "language": "python",
   "name": "python3"
  },
  "language_info": {
   "codemirror_mode": {
    "name": "ipython",
    "version": 3
   },
   "file_extension": ".py",
   "mimetype": "text/x-python",
   "name": "python",
   "nbconvert_exporter": "python",
   "pygments_lexer": "ipython3",
   "version": "3.13.2"
  }
 },
 "nbformat": 4,
 "nbformat_minor": 5
}
